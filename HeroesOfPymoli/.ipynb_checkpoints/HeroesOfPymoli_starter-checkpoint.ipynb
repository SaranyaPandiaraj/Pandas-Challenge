{
 "cells": [
  {
   "cell_type": "markdown",
   "metadata": {},
   "source": [
    "### Heroes Of Pymoli Data Analysis\n",
    "* Of the 1163 active players, the vast majority are male (84%). There also exists, a smaller, but notable proportion of female players (14%).\n",
    "\n",
    "* Our peak age demographic falls between 20-24 (44.8%) with secondary groups falling between 15-19 (18.60%) and 25-29 (13.4%).  \n",
    "-----"
   ]
  },
  {
   "cell_type": "markdown",
   "metadata": {},
   "source": [
    "### Note\n",
    "* Instructions have been included for each segment. You do not have to follow them exactly, but they are included to help you think through the steps."
   ]
  },
  {
   "cell_type": "code",
   "execution_count": 154,
   "metadata": {},
   "outputs": [
    {
     "data": {
      "text/html": [
       "<div>\n",
       "<style scoped>\n",
       "    .dataframe tbody tr th:only-of-type {\n",
       "        vertical-align: middle;\n",
       "    }\n",
       "\n",
       "    .dataframe tbody tr th {\n",
       "        vertical-align: top;\n",
       "    }\n",
       "\n",
       "    .dataframe thead th {\n",
       "        text-align: right;\n",
       "    }\n",
       "</style>\n",
       "<table border=\"1\" class=\"dataframe\">\n",
       "  <thead>\n",
       "    <tr style=\"text-align: right;\">\n",
       "      <th></th>\n",
       "      <th>Purchase ID</th>\n",
       "      <th>SN</th>\n",
       "      <th>Age</th>\n",
       "      <th>Gender</th>\n",
       "      <th>Item ID</th>\n",
       "      <th>Item Name</th>\n",
       "      <th>Price</th>\n",
       "    </tr>\n",
       "  </thead>\n",
       "  <tbody>\n",
       "    <tr>\n",
       "      <th>0</th>\n",
       "      <td>0</td>\n",
       "      <td>Lisim78</td>\n",
       "      <td>20</td>\n",
       "      <td>Male</td>\n",
       "      <td>108</td>\n",
       "      <td>Extraction, Quickblade Of Trembling Hands</td>\n",
       "      <td>3.53</td>\n",
       "    </tr>\n",
       "    <tr>\n",
       "      <th>1</th>\n",
       "      <td>1</td>\n",
       "      <td>Lisovynya38</td>\n",
       "      <td>40</td>\n",
       "      <td>Male</td>\n",
       "      <td>143</td>\n",
       "      <td>Frenzied Scimitar</td>\n",
       "      <td>1.56</td>\n",
       "    </tr>\n",
       "    <tr>\n",
       "      <th>2</th>\n",
       "      <td>2</td>\n",
       "      <td>Ithergue48</td>\n",
       "      <td>24</td>\n",
       "      <td>Male</td>\n",
       "      <td>92</td>\n",
       "      <td>Final Critic</td>\n",
       "      <td>4.88</td>\n",
       "    </tr>\n",
       "    <tr>\n",
       "      <th>3</th>\n",
       "      <td>3</td>\n",
       "      <td>Chamassasya86</td>\n",
       "      <td>24</td>\n",
       "      <td>Male</td>\n",
       "      <td>100</td>\n",
       "      <td>Blindscythe</td>\n",
       "      <td>3.27</td>\n",
       "    </tr>\n",
       "    <tr>\n",
       "      <th>4</th>\n",
       "      <td>4</td>\n",
       "      <td>Iskosia90</td>\n",
       "      <td>23</td>\n",
       "      <td>Male</td>\n",
       "      <td>131</td>\n",
       "      <td>Fury</td>\n",
       "      <td>1.44</td>\n",
       "    </tr>\n",
       "  </tbody>\n",
       "</table>\n",
       "</div>"
      ],
      "text/plain": [
       "   Purchase ID             SN  Age Gender  Item ID  \\\n",
       "0            0        Lisim78   20   Male      108   \n",
       "1            1    Lisovynya38   40   Male      143   \n",
       "2            2     Ithergue48   24   Male       92   \n",
       "3            3  Chamassasya86   24   Male      100   \n",
       "4            4      Iskosia90   23   Male      131   \n",
       "\n",
       "                                   Item Name  Price  \n",
       "0  Extraction, Quickblade Of Trembling Hands   3.53  \n",
       "1                          Frenzied Scimitar   1.56  \n",
       "2                               Final Critic   4.88  \n",
       "3                                Blindscythe   3.27  \n",
       "4                                       Fury   1.44  "
      ]
     },
     "execution_count": 154,
     "metadata": {},
     "output_type": "execute_result"
    }
   ],
   "source": [
    "# Dependencies and Setup\n",
    "import pandas as pd\n",
    "\n",
    "# File to Load (Remember to Change These)\n",
    "file_to_load = \"Resources/purchase_data.csv\"\n",
    "\n",
    "# Read Purchasing File and store into Pandas data frame\n",
    "purchase_data = pd.read_csv(file_to_load)\n",
    "\n",
    "purchase_data.head()"
   ]
  },
  {
   "cell_type": "markdown",
   "metadata": {},
   "source": [
    "## Player Count"
   ]
  },
  {
   "cell_type": "markdown",
   "metadata": {},
   "source": [
    "* Display the total number of players\n"
   ]
  },
  {
   "cell_type": "code",
   "execution_count": 155,
   "metadata": {},
   "outputs": [
    {
     "data": {
      "text/html": [
       "<div>\n",
       "<style scoped>\n",
       "    .dataframe tbody tr th:only-of-type {\n",
       "        vertical-align: middle;\n",
       "    }\n",
       "\n",
       "    .dataframe tbody tr th {\n",
       "        vertical-align: top;\n",
       "    }\n",
       "\n",
       "    .dataframe thead th {\n",
       "        text-align: right;\n",
       "    }\n",
       "</style>\n",
       "<table border=\"1\" class=\"dataframe\">\n",
       "  <thead>\n",
       "    <tr style=\"text-align: right;\">\n",
       "      <th></th>\n",
       "      <th>Total Players</th>\n",
       "    </tr>\n",
       "  </thead>\n",
       "  <tbody>\n",
       "    <tr>\n",
       "      <th>0</th>\n",
       "      <td>576</td>\n",
       "    </tr>\n",
       "  </tbody>\n",
       "</table>\n",
       "</div>"
      ],
      "text/plain": [
       "   Total Players\n",
       "0            576"
      ]
     },
     "execution_count": 155,
     "metadata": {},
     "output_type": "execute_result"
    }
   ],
   "source": [
    "#Total Number of Players\n",
    "Total_Players = purchase_data[\"SN\"].nunique()\n",
    "Player_Count_df = pd.DataFrame({\"Total Players\" : [Total_Players]})\n",
    "Player_Count_df"
   ]
  },
  {
   "cell_type": "markdown",
   "metadata": {},
   "source": [
    "### Observation"
   ]
  },
  {
   "cell_type": "raw",
   "metadata": {},
   "source": [
    "As per the Purchase Data CSV (purchase_data.csv), the total purchase ID count is 780 but the number of unique players is 576 only. From this we can come to conclusion that there are purchasers who buy the Heroes Of Pymoli Game repeatedly.\n"
   ]
  },
  {
   "cell_type": "markdown",
   "metadata": {},
   "source": [
    "## Purchasing Analysis (Total)"
   ]
  },
  {
   "cell_type": "markdown",
   "metadata": {},
   "source": [
    "* Run basic calculations to obtain number of unique items, average price, etc.\n",
    "\n",
    "\n",
    "* Create a summary data frame to hold the results\n",
    "\n",
    "\n",
    "* Optional: give the displayed data cleaner formatting\n",
    "\n",
    "\n",
    "* Display the summary data frame\n"
   ]
  },
  {
   "cell_type": "code",
   "execution_count": 156,
   "metadata": {
    "scrolled": true
   },
   "outputs": [
    {
     "data": {
      "text/html": [
       "<style  type=\"text/css\" >\n",
       "</style><table id=\"T_79ee2886_d2a0_11e9_81ad_ccb0da51e292\" ><thead>    <tr>        <th class=\"blank level0\" ></th>        <th class=\"col_heading level0 col0\" >Number of Unique Items</th>        <th class=\"col_heading level0 col1\" >Average Price</th>        <th class=\"col_heading level0 col2\" >Total Number of Purchases</th>        <th class=\"col_heading level0 col3\" >Total Revenue</th>    </tr></thead><tbody>\n",
       "                <tr>\n",
       "                        <th id=\"T_79ee2886_d2a0_11e9_81ad_ccb0da51e292level0_row0\" class=\"row_heading level0 row0\" >0</th>\n",
       "                        <td id=\"T_79ee2886_d2a0_11e9_81ad_ccb0da51e292row0_col0\" class=\"data row0 col0\" >183</td>\n",
       "                        <td id=\"T_79ee2886_d2a0_11e9_81ad_ccb0da51e292row0_col1\" class=\"data row0 col1\" >$3.05</td>\n",
       "                        <td id=\"T_79ee2886_d2a0_11e9_81ad_ccb0da51e292row0_col2\" class=\"data row0 col2\" >780</td>\n",
       "                        <td id=\"T_79ee2886_d2a0_11e9_81ad_ccb0da51e292row0_col3\" class=\"data row0 col3\" >$2,379.77</td>\n",
       "            </tr>\n",
       "    </tbody></table>"
      ],
      "text/plain": [
       "<pandas.io.formats.style.Styler at 0x279825355c0>"
      ]
     },
     "execution_count": 156,
     "metadata": {},
     "output_type": "execute_result"
    }
   ],
   "source": [
    "#Number of Unique Items\n",
    "Unique_Items = purchase_data[\"Item ID\"].nunique()\n",
    "\n",
    "#Average Purchase Price\n",
    "Average_Price = purchase_data[\"Price\"].mean()\n",
    "\n",
    "#Total Number of Purchases\n",
    "Total_Num_Purchases = purchase_data[\"Purchase ID\"].count()\n",
    "\n",
    "#Total Revenue\n",
    "Total_Revenue = purchase_data[\"Price\"].sum()\n",
    "\n",
    "#Summary Data Frame to hold the results\n",
    "Purchasing_Analysis_Total_df = pd.DataFrame({\"Number of Unique Items\" : [Unique_Items],\n",
    "                                       \"Average Price\" : [Average_Price],\n",
    "                                       \"Total Number of Purchases\" : [Total_Num_Purchases],\n",
    "                                       \"Total Revenue\" : [Total_Revenue]\n",
    "                                      })\n",
    "#Formatting the Data Frame\n",
    "Purchasing_Analysis_Total_df = Purchasing_Analysis_Total_df.style.format({\"Average Price\": \"${:.2f}\", \"Total Revenue\": \"${:,.2f}\"})\n",
    "\n",
    "#Displaying the Data Frame\n",
    "Purchasing_Analysis_Total_df"
   ]
  },
  {
   "cell_type": "markdown",
   "metadata": {},
   "source": [
    "## Gender Demographics"
   ]
  },
  {
   "cell_type": "markdown",
   "metadata": {},
   "source": [
    "* Percentage and Count of Male Players\n",
    "\n",
    "\n",
    "* Percentage and Count of Female Players\n",
    "\n",
    "\n",
    "* Percentage and Count of Other / Non-Disclosed\n",
    "\n",
    "\n"
   ]
  },
  {
   "cell_type": "code",
   "execution_count": 157,
   "metadata": {},
   "outputs": [
    {
     "data": {
      "text/html": [
       "<div>\n",
       "<style scoped>\n",
       "    .dataframe tbody tr th:only-of-type {\n",
       "        vertical-align: middle;\n",
       "    }\n",
       "\n",
       "    .dataframe tbody tr th {\n",
       "        vertical-align: top;\n",
       "    }\n",
       "\n",
       "    .dataframe thead th {\n",
       "        text-align: right;\n",
       "    }\n",
       "</style>\n",
       "<table border=\"1\" class=\"dataframe\">\n",
       "  <thead>\n",
       "    <tr style=\"text-align: right;\">\n",
       "      <th></th>\n",
       "      <th>Total Count</th>\n",
       "      <th>Percentage Of Players</th>\n",
       "    </tr>\n",
       "    <tr>\n",
       "      <th></th>\n",
       "      <th></th>\n",
       "      <th></th>\n",
       "    </tr>\n",
       "  </thead>\n",
       "  <tbody>\n",
       "    <tr>\n",
       "      <th>Male</th>\n",
       "      <td>484</td>\n",
       "      <td>84.03</td>\n",
       "    </tr>\n",
       "    <tr>\n",
       "      <th>Female</th>\n",
       "      <td>81</td>\n",
       "      <td>14.06</td>\n",
       "    </tr>\n",
       "    <tr>\n",
       "      <th>Other / Non-Disclosed</th>\n",
       "      <td>11</td>\n",
       "      <td>1.91</td>\n",
       "    </tr>\n",
       "  </tbody>\n",
       "</table>\n",
       "</div>"
      ],
      "text/plain": [
       "                       Total Count  Percentage Of Players\n",
       "                                                         \n",
       "Male                           484                  84.03\n",
       "Female                          81                  14.06\n",
       "Other / Non-Disclosed           11                   1.91"
      ]
     },
     "execution_count": 157,
     "metadata": {},
     "output_type": "execute_result"
    }
   ],
   "source": [
    "#Group by Gender\n",
    "purchase_data[\"\"] = purchase_data[\"Gender\"]\n",
    "Gender_Group = purchase_data.groupby([\"\"])\n",
    "\n",
    "#Calculating the Player's Total Count and Percentage of Players based on Gender\n",
    "Gender_Total_Count = Gender_Group[\"SN\"].nunique()\n",
    "Gender_Percentage_Players = round((Gender_Total_Count/Total_Players)*100,2)\n",
    "\n",
    "#Summary Data Frame to hold the results\n",
    "Gender_Demographics_df = pd.DataFrame({\"Total Count\": Gender_Total_Count, \n",
    "                                           \"Percentage Of Players\": Gender_Percentage_Players\n",
    "                                        })\n",
    "\n",
    "#Sorting the Values by Total Count in Descending Order\n",
    "Gender_Demographics_df = Gender_Demographics_df.sort_values(\"Total Count\", ascending=False) \n",
    "\n",
    "#Displaying the Data Frame\n",
    "Gender_Demographics_df"
   ]
  },
  {
   "cell_type": "markdown",
   "metadata": {},
   "source": [
    "\n",
    "## Purchasing Analysis (Gender)"
   ]
  },
  {
   "cell_type": "markdown",
   "metadata": {},
   "source": [
    "* Run basic calculations to obtain purchase count, avg. purchase price, avg. purchase total per person etc. by gender\n",
    "\n",
    "* Create a summary data frame to hold the results\n",
    "\n",
    "\n",
    "* Optional: give the displayed data cleaner formatting\n",
    "\n",
    "\n",
    "* Display the summary data frame"
   ]
  },
  {
   "cell_type": "code",
   "execution_count": 158,
   "metadata": {},
   "outputs": [
    {
     "data": {
      "text/html": [
       "<style  type=\"text/css\" >\n",
       "</style><table id=\"T_7b06a5d4_d2a0_11e9_8382_ccb0da51e292\" ><thead>    <tr>        <th class=\"blank level0\" ></th>        <th class=\"col_heading level0 col0\" >Purchase Count</th>        <th class=\"col_heading level0 col1\" >AverGender Purchase Price</th>        <th class=\"col_heading level0 col2\" >Total Purchase Value</th>        <th class=\"col_heading level0 col3\" >Avg Total Purchase per Person</th>    </tr>    <tr>        <th class=\"index_name level0\" ></th>        <th class=\"blank\" ></th>        <th class=\"blank\" ></th>        <th class=\"blank\" ></th>        <th class=\"blank\" ></th>    </tr></thead><tbody>\n",
       "                <tr>\n",
       "                        <th id=\"T_7b06a5d4_d2a0_11e9_8382_ccb0da51e292level0_row0\" class=\"row_heading level0 row0\" >Female</th>\n",
       "                        <td id=\"T_7b06a5d4_d2a0_11e9_8382_ccb0da51e292row0_col0\" class=\"data row0 col0\" >113</td>\n",
       "                        <td id=\"T_7b06a5d4_d2a0_11e9_8382_ccb0da51e292row0_col1\" class=\"data row0 col1\" >$3.20</td>\n",
       "                        <td id=\"T_7b06a5d4_d2a0_11e9_8382_ccb0da51e292row0_col2\" class=\"data row0 col2\" >$361.94</td>\n",
       "                        <td id=\"T_7b06a5d4_d2a0_11e9_8382_ccb0da51e292row0_col3\" class=\"data row0 col3\" >$4.47</td>\n",
       "            </tr>\n",
       "            <tr>\n",
       "                        <th id=\"T_7b06a5d4_d2a0_11e9_8382_ccb0da51e292level0_row1\" class=\"row_heading level0 row1\" >Male</th>\n",
       "                        <td id=\"T_7b06a5d4_d2a0_11e9_8382_ccb0da51e292row1_col0\" class=\"data row1 col0\" >652</td>\n",
       "                        <td id=\"T_7b06a5d4_d2a0_11e9_8382_ccb0da51e292row1_col1\" class=\"data row1 col1\" >$3.02</td>\n",
       "                        <td id=\"T_7b06a5d4_d2a0_11e9_8382_ccb0da51e292row1_col2\" class=\"data row1 col2\" >$1,967.64</td>\n",
       "                        <td id=\"T_7b06a5d4_d2a0_11e9_8382_ccb0da51e292row1_col3\" class=\"data row1 col3\" >$4.07</td>\n",
       "            </tr>\n",
       "            <tr>\n",
       "                        <th id=\"T_7b06a5d4_d2a0_11e9_8382_ccb0da51e292level0_row2\" class=\"row_heading level0 row2\" >Other / Non-Disclosed</th>\n",
       "                        <td id=\"T_7b06a5d4_d2a0_11e9_8382_ccb0da51e292row2_col0\" class=\"data row2 col0\" >15</td>\n",
       "                        <td id=\"T_7b06a5d4_d2a0_11e9_8382_ccb0da51e292row2_col1\" class=\"data row2 col1\" >$3.35</td>\n",
       "                        <td id=\"T_7b06a5d4_d2a0_11e9_8382_ccb0da51e292row2_col2\" class=\"data row2 col2\" >$50.19</td>\n",
       "                        <td id=\"T_7b06a5d4_d2a0_11e9_8382_ccb0da51e292row2_col3\" class=\"data row2 col3\" >$4.56</td>\n",
       "            </tr>\n",
       "    </tbody></table>"
      ],
      "text/plain": [
       "<pandas.io.formats.style.Styler at 0x279827afcf8>"
      ]
     },
     "execution_count": 158,
     "metadata": {},
     "output_type": "execute_result"
    }
   ],
   "source": [
    "#Group by Gender\n",
    "purchase_data[\"\"] = purchase_data[\"Gender\"]\n",
    "Gender_Group = purchase_data.groupby([\"\"])\n",
    "\n",
    "# Calculating Purchase Count, AverGender Purchase Price (PP) based on Gender.\n",
    "# Calculating Total Purchase Value (PV), Avg Total Purchase Per Person (TPPP) based on Gender.\n",
    "Gender_Purchase_Count = Gender_Group[\"Purchase ID\"].nunique()\n",
    "Gender_Avg_PP = Gender_Group[\"Price\"].mean()\n",
    "Gender_Total_PV = Gender_Group[\"Price\"].sum()\n",
    "Gender_Avg_TPPP = Gender_Total_PV/Gender_Group[\"SN\"].nunique()\n",
    "\n",
    "#Summary Data Frame to hold the results\n",
    "Purchasing_Analysis_Gender_df = pd.DataFrame({\"Purchase Count\": Gender_Purchase_Count, \n",
    "                                           \"AverGender Purchase Price\": Gender_Avg_PP,\n",
    "                                           \"Total Purchase Value\": Gender_Total_PV,\n",
    "                                           \"Avg Total Purchase per Person\": Gender_Avg_TPPP})\n",
    "#Sorting the Index\n",
    "Purchasing_Analysis_Gender_df.sort_index()\n",
    "\n",
    "#Formatting the Data Frame\n",
    "Purchasing_Analysis_Gender_df = Purchasing_Analysis_Gender_df.style.format({\"AverGender Purchase Price\": \"${:.2f}\", \"Total Purchase Value\": \"${:,.2f}\", \"Avg Total Purchase per Person\": \"${:.2f}\"})\n",
    "\n",
    "#Displaying the Data Frame\n",
    "Purchasing_Analysis_Gender_df"
   ]
  },
  {
   "cell_type": "markdown",
   "metadata": {},
   "source": [
    "## Age Demographics"
   ]
  },
  {
   "cell_type": "markdown",
   "metadata": {},
   "source": [
    "* Establish bins for ages\n",
    "\n",
    "\n",
    "* Categorize the existing players using the age bins. Hint: use pd.cut()\n",
    "\n",
    "\n",
    "* Calculate the numbers and percentages by age group\n",
    "\n",
    "\n",
    "* Create a summary data frame to hold the results\n",
    "\n",
    "\n",
    "* Optional: round the percentage column to two decimal points\n",
    "\n",
    "\n",
    "* Display Age Demographics Table\n"
   ]
  },
  {
   "cell_type": "code",
   "execution_count": 159,
   "metadata": {},
   "outputs": [
    {
     "data": {
      "text/html": [
       "<div>\n",
       "<style scoped>\n",
       "    .dataframe tbody tr th:only-of-type {\n",
       "        vertical-align: middle;\n",
       "    }\n",
       "\n",
       "    .dataframe tbody tr th {\n",
       "        vertical-align: top;\n",
       "    }\n",
       "\n",
       "    .dataframe thead th {\n",
       "        text-align: right;\n",
       "    }\n",
       "</style>\n",
       "<table border=\"1\" class=\"dataframe\">\n",
       "  <thead>\n",
       "    <tr style=\"text-align: right;\">\n",
       "      <th></th>\n",
       "      <th>Total Count</th>\n",
       "      <th>Percentage of Players</th>\n",
       "    </tr>\n",
       "    <tr>\n",
       "      <th></th>\n",
       "      <th></th>\n",
       "      <th></th>\n",
       "    </tr>\n",
       "  </thead>\n",
       "  <tbody>\n",
       "    <tr>\n",
       "      <th>&lt;10</th>\n",
       "      <td>17</td>\n",
       "      <td>2.95</td>\n",
       "    </tr>\n",
       "    <tr>\n",
       "      <th>10-14</th>\n",
       "      <td>22</td>\n",
       "      <td>3.82</td>\n",
       "    </tr>\n",
       "    <tr>\n",
       "      <th>15-19</th>\n",
       "      <td>107</td>\n",
       "      <td>18.58</td>\n",
       "    </tr>\n",
       "    <tr>\n",
       "      <th>20-24</th>\n",
       "      <td>258</td>\n",
       "      <td>44.79</td>\n",
       "    </tr>\n",
       "    <tr>\n",
       "      <th>25-29</th>\n",
       "      <td>77</td>\n",
       "      <td>13.37</td>\n",
       "    </tr>\n",
       "    <tr>\n",
       "      <th>30-34</th>\n",
       "      <td>52</td>\n",
       "      <td>9.03</td>\n",
       "    </tr>\n",
       "    <tr>\n",
       "      <th>35-39</th>\n",
       "      <td>31</td>\n",
       "      <td>5.38</td>\n",
       "    </tr>\n",
       "    <tr>\n",
       "      <th>40+</th>\n",
       "      <td>12</td>\n",
       "      <td>2.08</td>\n",
       "    </tr>\n",
       "  </tbody>\n",
       "</table>\n",
       "</div>"
      ],
      "text/plain": [
       "       Total Count  Percentage of Players\n",
       "                                         \n",
       "<10             17                   2.95\n",
       "10-14           22                   3.82\n",
       "15-19          107                  18.58\n",
       "20-24          258                  44.79\n",
       "25-29           77                  13.37\n",
       "30-34           52                   9.03\n",
       "35-39           31                   5.38\n",
       "40+             12                   2.08"
      ]
     },
     "execution_count": 159,
     "metadata": {},
     "output_type": "execute_result"
    }
   ],
   "source": [
    "#Creating Bins & Groups by Age\n",
    "Age_bins = [0,9,14,19,24,29,34,39,100]\n",
    "Bin_Groups = ['<10', '10-14', '15-19', '20-24', '25-29', '30-34', '35-39', '40+']\n",
    "\n",
    "#Categorizing the existing players using the age bins.\n",
    "purchase_data[\"\"] = pd.cut(purchase_data[\"Age\"], Age_bins, labels=Bin_Groups)\n",
    "Age_Group = purchase_data.groupby([\"\"])\n",
    "\n",
    "# Calculating Total Count, Percentage Of Players based on Age.\n",
    "Total_Count = Age_Group[\"SN\"].nunique()\n",
    "Percentage_of_Players = round((Total_Count/Total_Players) * 100,2)\n",
    "\n",
    "#Summary Data Frame to hold the results\n",
    "Age_Demographics_df = pd.DataFrame({\"Total Count\": Total_Count, \"Percentage of Players\": Percentage_of_Players})\n",
    "\n",
    "#Sorting the Index\n",
    "Age_Demographics_df = Age_Demographics_df.sort_index()\n",
    "\n",
    "#Displaying the Data Frame\n",
    "Age_Demographics_df\n"
   ]
  },
  {
   "cell_type": "markdown",
   "metadata": {},
   "source": [
    "## Purchasing Analysis (Age)"
   ]
  },
  {
   "cell_type": "markdown",
   "metadata": {},
   "source": [
    "* Bin the purchase_data data frame by age\n",
    "\n",
    "\n",
    "* Run basic calculations to obtain purchase count, avg. purchase price, avg. purchase total per person etc. in the table below\n",
    "\n",
    "\n",
    "* Create a summary data frame to hold the results\n",
    "\n",
    "\n",
    "* Optional: give the displayed data cleaner formatting\n",
    "\n",
    "\n",
    "* Display the summary data frame"
   ]
  },
  {
   "cell_type": "code",
   "execution_count": 160,
   "metadata": {},
   "outputs": [
    {
     "data": {
      "text/html": [
       "<style  type=\"text/css\" >\n",
       "</style><table id=\"T_7bfe6a76_d2a0_11e9_9560_ccb0da51e292\" ><thead>    <tr>        <th class=\"blank level0\" ></th>        <th class=\"col_heading level0 col0\" >Purchase Count</th>        <th class=\"col_heading level0 col1\" >Average Purchase Price</th>        <th class=\"col_heading level0 col2\" >Total Purchase Value</th>        <th class=\"col_heading level0 col3\" >Avg Total Purchase per Person</th>    </tr>    <tr>        <th class=\"index_name level0\" ></th>        <th class=\"blank\" ></th>        <th class=\"blank\" ></th>        <th class=\"blank\" ></th>        <th class=\"blank\" ></th>    </tr></thead><tbody>\n",
       "                <tr>\n",
       "                        <th id=\"T_7bfe6a76_d2a0_11e9_9560_ccb0da51e292level0_row0\" class=\"row_heading level0 row0\" ><10</th>\n",
       "                        <td id=\"T_7bfe6a76_d2a0_11e9_9560_ccb0da51e292row0_col0\" class=\"data row0 col0\" >23</td>\n",
       "                        <td id=\"T_7bfe6a76_d2a0_11e9_9560_ccb0da51e292row0_col1\" class=\"data row0 col1\" >$3.35</td>\n",
       "                        <td id=\"T_7bfe6a76_d2a0_11e9_9560_ccb0da51e292row0_col2\" class=\"data row0 col2\" >$77.13</td>\n",
       "                        <td id=\"T_7bfe6a76_d2a0_11e9_9560_ccb0da51e292row0_col3\" class=\"data row0 col3\" >$4.54</td>\n",
       "            </tr>\n",
       "            <tr>\n",
       "                        <th id=\"T_7bfe6a76_d2a0_11e9_9560_ccb0da51e292level0_row1\" class=\"row_heading level0 row1\" >10-14</th>\n",
       "                        <td id=\"T_7bfe6a76_d2a0_11e9_9560_ccb0da51e292row1_col0\" class=\"data row1 col0\" >28</td>\n",
       "                        <td id=\"T_7bfe6a76_d2a0_11e9_9560_ccb0da51e292row1_col1\" class=\"data row1 col1\" >$2.96</td>\n",
       "                        <td id=\"T_7bfe6a76_d2a0_11e9_9560_ccb0da51e292row1_col2\" class=\"data row1 col2\" >$82.78</td>\n",
       "                        <td id=\"T_7bfe6a76_d2a0_11e9_9560_ccb0da51e292row1_col3\" class=\"data row1 col3\" >$3.76</td>\n",
       "            </tr>\n",
       "            <tr>\n",
       "                        <th id=\"T_7bfe6a76_d2a0_11e9_9560_ccb0da51e292level0_row2\" class=\"row_heading level0 row2\" >15-19</th>\n",
       "                        <td id=\"T_7bfe6a76_d2a0_11e9_9560_ccb0da51e292row2_col0\" class=\"data row2 col0\" >136</td>\n",
       "                        <td id=\"T_7bfe6a76_d2a0_11e9_9560_ccb0da51e292row2_col1\" class=\"data row2 col1\" >$3.04</td>\n",
       "                        <td id=\"T_7bfe6a76_d2a0_11e9_9560_ccb0da51e292row2_col2\" class=\"data row2 col2\" >$412.89</td>\n",
       "                        <td id=\"T_7bfe6a76_d2a0_11e9_9560_ccb0da51e292row2_col3\" class=\"data row2 col3\" >$3.86</td>\n",
       "            </tr>\n",
       "            <tr>\n",
       "                        <th id=\"T_7bfe6a76_d2a0_11e9_9560_ccb0da51e292level0_row3\" class=\"row_heading level0 row3\" >20-24</th>\n",
       "                        <td id=\"T_7bfe6a76_d2a0_11e9_9560_ccb0da51e292row3_col0\" class=\"data row3 col0\" >365</td>\n",
       "                        <td id=\"T_7bfe6a76_d2a0_11e9_9560_ccb0da51e292row3_col1\" class=\"data row3 col1\" >$3.05</td>\n",
       "                        <td id=\"T_7bfe6a76_d2a0_11e9_9560_ccb0da51e292row3_col2\" class=\"data row3 col2\" >$1,114.06</td>\n",
       "                        <td id=\"T_7bfe6a76_d2a0_11e9_9560_ccb0da51e292row3_col3\" class=\"data row3 col3\" >$4.32</td>\n",
       "            </tr>\n",
       "            <tr>\n",
       "                        <th id=\"T_7bfe6a76_d2a0_11e9_9560_ccb0da51e292level0_row4\" class=\"row_heading level0 row4\" >25-29</th>\n",
       "                        <td id=\"T_7bfe6a76_d2a0_11e9_9560_ccb0da51e292row4_col0\" class=\"data row4 col0\" >101</td>\n",
       "                        <td id=\"T_7bfe6a76_d2a0_11e9_9560_ccb0da51e292row4_col1\" class=\"data row4 col1\" >$2.90</td>\n",
       "                        <td id=\"T_7bfe6a76_d2a0_11e9_9560_ccb0da51e292row4_col2\" class=\"data row4 col2\" >$293.00</td>\n",
       "                        <td id=\"T_7bfe6a76_d2a0_11e9_9560_ccb0da51e292row4_col3\" class=\"data row4 col3\" >$3.81</td>\n",
       "            </tr>\n",
       "            <tr>\n",
       "                        <th id=\"T_7bfe6a76_d2a0_11e9_9560_ccb0da51e292level0_row5\" class=\"row_heading level0 row5\" >30-34</th>\n",
       "                        <td id=\"T_7bfe6a76_d2a0_11e9_9560_ccb0da51e292row5_col0\" class=\"data row5 col0\" >73</td>\n",
       "                        <td id=\"T_7bfe6a76_d2a0_11e9_9560_ccb0da51e292row5_col1\" class=\"data row5 col1\" >$2.93</td>\n",
       "                        <td id=\"T_7bfe6a76_d2a0_11e9_9560_ccb0da51e292row5_col2\" class=\"data row5 col2\" >$214.00</td>\n",
       "                        <td id=\"T_7bfe6a76_d2a0_11e9_9560_ccb0da51e292row5_col3\" class=\"data row5 col3\" >$4.12</td>\n",
       "            </tr>\n",
       "            <tr>\n",
       "                        <th id=\"T_7bfe6a76_d2a0_11e9_9560_ccb0da51e292level0_row6\" class=\"row_heading level0 row6\" >35-39</th>\n",
       "                        <td id=\"T_7bfe6a76_d2a0_11e9_9560_ccb0da51e292row6_col0\" class=\"data row6 col0\" >41</td>\n",
       "                        <td id=\"T_7bfe6a76_d2a0_11e9_9560_ccb0da51e292row6_col1\" class=\"data row6 col1\" >$3.60</td>\n",
       "                        <td id=\"T_7bfe6a76_d2a0_11e9_9560_ccb0da51e292row6_col2\" class=\"data row6 col2\" >$147.67</td>\n",
       "                        <td id=\"T_7bfe6a76_d2a0_11e9_9560_ccb0da51e292row6_col3\" class=\"data row6 col3\" >$4.76</td>\n",
       "            </tr>\n",
       "            <tr>\n",
       "                        <th id=\"T_7bfe6a76_d2a0_11e9_9560_ccb0da51e292level0_row7\" class=\"row_heading level0 row7\" >40+</th>\n",
       "                        <td id=\"T_7bfe6a76_d2a0_11e9_9560_ccb0da51e292row7_col0\" class=\"data row7 col0\" >13</td>\n",
       "                        <td id=\"T_7bfe6a76_d2a0_11e9_9560_ccb0da51e292row7_col1\" class=\"data row7 col1\" >$2.94</td>\n",
       "                        <td id=\"T_7bfe6a76_d2a0_11e9_9560_ccb0da51e292row7_col2\" class=\"data row7 col2\" >$38.24</td>\n",
       "                        <td id=\"T_7bfe6a76_d2a0_11e9_9560_ccb0da51e292row7_col3\" class=\"data row7 col3\" >$3.19</td>\n",
       "            </tr>\n",
       "    </tbody></table>"
      ],
      "text/plain": [
       "<pandas.io.formats.style.Styler at 0x279824eb240>"
      ]
     },
     "execution_count": 160,
     "metadata": {},
     "output_type": "execute_result"
    }
   ],
   "source": [
    "#Creating Bins & Groups by Age\n",
    "Age_bins = [0,9,14,19,24,29,34,39,100]\n",
    "Bin_Groups = ['<10', '10-14', '15-19', '20-24', '25-29', '30-34', '35-39', '40+']\n",
    "\n",
    "#Categorizing the existing players using the age bins.\n",
    "purchase_data[\"\"] = pd.cut(purchase_data[\"Age\"], Age_bins, labels=Bin_Groups)\n",
    "Age_Group = purchase_data.groupby([\"\"])\n",
    "\n",
    "# Calculating Purchase Count, Average Purchase Price (PP) based on Age.\n",
    "# Calculating Total Purchase Value (PV), Avg Total Purchase Per Person (TPPP) based on Age.\n",
    "Age_Purchase_Count = Age_Group[\"Purchase ID\"].nunique()\n",
    "Age_Avg_PP = Age_Group[\"Price\"].mean()\n",
    "Age_Total_PV = Age_Group[\"Price\"].sum()\n",
    "Age_Avg_TPPP = Age_Total_PV/Age_Group[\"SN\"].nunique()\n",
    "\n",
    "#Summary Data Frame to hold the results\n",
    "Purchasing_Analysis_Age_df = pd.DataFrame({\"Purchase Count\": Age_Purchase_Count, \n",
    "                                           \"Average Purchase Price\": Age_Avg_PP,\n",
    "                                           \"Total Purchase Value\": Age_Total_PV,\n",
    "                                           \"Avg Total Purchase per Person\": Age_Avg_TPPP})\n",
    "#Sorting the Index\n",
    "Purchasing_Analysis_Age_df.sort_index()\n",
    "\n",
    "#Formatting the Data Frame\n",
    "Purchasing_Analysis_Age_df = Purchasing_Analysis_Age_df.style.format({\"Average Purchase Price\": \"${:.2f}\", \"Total Purchase Value\": \"${:,.2f}\", \"Avg Total Purchase per Person\": \"${:.2f}\"})\n",
    "\n",
    "#Displaying the Data Frame\n",
    "Purchasing_Analysis_Age_df"
   ]
  },
  {
   "cell_type": "markdown",
   "metadata": {},
   "source": [
    "## Top Spenders"
   ]
  },
  {
   "cell_type": "markdown",
   "metadata": {},
   "source": [
    "* Run basic calculations to obtain the results in the table below\n",
    "\n",
    "\n",
    "* Create a summary data frame to hold the results\n",
    "\n",
    "\n",
    "* Sort the total purchase value column in descending order\n",
    "\n",
    "\n",
    "* Optional: give the displayed data cleaner formatting\n",
    "\n",
    "\n",
    "* Display a preview of the summary data frame\n",
    "\n"
   ]
  },
  {
   "cell_type": "code",
   "execution_count": 161,
   "metadata": {},
   "outputs": [
    {
     "data": {
      "text/html": [
       "<style  type=\"text/css\" >\n",
       "</style><table id=\"T_7d54ec90_d2a0_11e9_ac6a_ccb0da51e292\" ><thead>    <tr>        <th class=\"blank level0\" ></th>        <th class=\"col_heading level0 col0\" >Purchase Count</th>        <th class=\"col_heading level0 col1\" >Average Purchase Price</th>        <th class=\"col_heading level0 col2\" >Total Purchase Value</th>    </tr>    <tr>        <th class=\"index_name level0\" >SN</th>        <th class=\"blank\" ></th>        <th class=\"blank\" ></th>        <th class=\"blank\" ></th>    </tr></thead><tbody>\n",
       "                <tr>\n",
       "                        <th id=\"T_7d54ec90_d2a0_11e9_ac6a_ccb0da51e292level0_row0\" class=\"row_heading level0 row0\" >Lisosia93</th>\n",
       "                        <td id=\"T_7d54ec90_d2a0_11e9_ac6a_ccb0da51e292row0_col0\" class=\"data row0 col0\" >5</td>\n",
       "                        <td id=\"T_7d54ec90_d2a0_11e9_ac6a_ccb0da51e292row0_col1\" class=\"data row0 col1\" >$3.79</td>\n",
       "                        <td id=\"T_7d54ec90_d2a0_11e9_ac6a_ccb0da51e292row0_col2\" class=\"data row0 col2\" >$18.96</td>\n",
       "            </tr>\n",
       "            <tr>\n",
       "                        <th id=\"T_7d54ec90_d2a0_11e9_ac6a_ccb0da51e292level0_row1\" class=\"row_heading level0 row1\" >Idastidru52</th>\n",
       "                        <td id=\"T_7d54ec90_d2a0_11e9_ac6a_ccb0da51e292row1_col0\" class=\"data row1 col0\" >4</td>\n",
       "                        <td id=\"T_7d54ec90_d2a0_11e9_ac6a_ccb0da51e292row1_col1\" class=\"data row1 col1\" >$3.86</td>\n",
       "                        <td id=\"T_7d54ec90_d2a0_11e9_ac6a_ccb0da51e292row1_col2\" class=\"data row1 col2\" >$15.45</td>\n",
       "            </tr>\n",
       "            <tr>\n",
       "                        <th id=\"T_7d54ec90_d2a0_11e9_ac6a_ccb0da51e292level0_row2\" class=\"row_heading level0 row2\" >Chamjask73</th>\n",
       "                        <td id=\"T_7d54ec90_d2a0_11e9_ac6a_ccb0da51e292row2_col0\" class=\"data row2 col0\" >3</td>\n",
       "                        <td id=\"T_7d54ec90_d2a0_11e9_ac6a_ccb0da51e292row2_col1\" class=\"data row2 col1\" >$4.61</td>\n",
       "                        <td id=\"T_7d54ec90_d2a0_11e9_ac6a_ccb0da51e292row2_col2\" class=\"data row2 col2\" >$13.83</td>\n",
       "            </tr>\n",
       "            <tr>\n",
       "                        <th id=\"T_7d54ec90_d2a0_11e9_ac6a_ccb0da51e292level0_row3\" class=\"row_heading level0 row3\" >Iral74</th>\n",
       "                        <td id=\"T_7d54ec90_d2a0_11e9_ac6a_ccb0da51e292row3_col0\" class=\"data row3 col0\" >4</td>\n",
       "                        <td id=\"T_7d54ec90_d2a0_11e9_ac6a_ccb0da51e292row3_col1\" class=\"data row3 col1\" >$3.40</td>\n",
       "                        <td id=\"T_7d54ec90_d2a0_11e9_ac6a_ccb0da51e292row3_col2\" class=\"data row3 col2\" >$13.62</td>\n",
       "            </tr>\n",
       "            <tr>\n",
       "                        <th id=\"T_7d54ec90_d2a0_11e9_ac6a_ccb0da51e292level0_row4\" class=\"row_heading level0 row4\" >Iskadarya95</th>\n",
       "                        <td id=\"T_7d54ec90_d2a0_11e9_ac6a_ccb0da51e292row4_col0\" class=\"data row4 col0\" >3</td>\n",
       "                        <td id=\"T_7d54ec90_d2a0_11e9_ac6a_ccb0da51e292row4_col1\" class=\"data row4 col1\" >$4.37</td>\n",
       "                        <td id=\"T_7d54ec90_d2a0_11e9_ac6a_ccb0da51e292row4_col2\" class=\"data row4 col2\" >$13.10</td>\n",
       "            </tr>\n",
       "    </tbody></table>"
      ],
      "text/plain": [
       "<pandas.io.formats.style.Styler at 0x2798237ff28>"
      ]
     },
     "execution_count": 161,
     "metadata": {},
     "output_type": "execute_result"
    }
   ],
   "source": [
    "#Group by Spenders\n",
    "SN_Group = purchase_data.groupby([\"SN\"])\n",
    "\n",
    "# Calculating Purchase Count, Average Purchase Price (PP) , Total Purchase Value (PV) based on Top Spenders\n",
    "Spenders_Purchase_Count = SN_Group[\"Purchase ID\"].nunique()\n",
    "Spenders_Avg_PP = SN_Group[\"Price\"].mean()\n",
    "Spenders_Total_PV = SN_Group[\"Price\"].sum()\n",
    "\n",
    "#Summary Data Frame to hold the results\n",
    "Top_Spenders_df = pd.DataFrame({\"Purchase Count\": Spenders_Purchase_Count, \n",
    "                                           \"Average Purchase Price\": Spenders_Avg_PP,\n",
    "                                           \"Total Purchase Value\": Spenders_Total_PV})\n",
    "\n",
    "#Sorting the Data Frame by Total Purchase Value in Descending Order\n",
    "Top_Spenders_df = Top_Spenders_df.sort_values(\"Total Purchase Value\", ascending=False) \n",
    "\n",
    "#Displaying Priview of Data (head)\n",
    "Top_Spenders_df = Top_Spenders_df.head()\n",
    "\n",
    "#Formatting the Data Frame\n",
    "Top_Spenders_df = Top_Spenders_df.style.format({\"Average Purchase Price\": \"${:.2f}\", \"Total Purchase Value\": \"${:,.2f}\"})\n",
    "\n",
    "#Displaying the Data Frame\n",
    "Top_Spenders_df\n"
   ]
  },
  {
   "cell_type": "markdown",
   "metadata": {},
   "source": [
    "## Most Popular Items"
   ]
  },
  {
   "cell_type": "markdown",
   "metadata": {},
   "source": [
    "* Retrieve the Item ID, Item Name, and Item Price columns\n",
    "\n",
    "\n",
    "* Group by Item ID and Item Name. Perform calculations to obtain purchase count, item price, and total purchase value\n",
    "\n",
    "\n",
    "* Create a summary data frame to hold the results\n",
    "\n",
    "\n",
    "* Sort the purchase count column in descending order\n",
    "\n",
    "\n",
    "* Optional: give the displayed data cleaner formatting\n",
    "\n",
    "\n",
    "* Display a preview of the summary data frame\n",
    "\n"
   ]
  },
  {
   "cell_type": "code",
   "execution_count": 162,
   "metadata": {},
   "outputs": [
    {
     "data": {
      "text/html": [
       "<style  type=\"text/css\" >\n",
       "</style><table id=\"T_7eb0e740_d2a0_11e9_bbec_ccb0da51e292\" ><thead>    <tr>        <th class=\"blank\" ></th>        <th class=\"blank level0\" ></th>        <th class=\"col_heading level0 col0\" >Purchase Count</th>        <th class=\"col_heading level0 col1\" >Item Price</th>        <th class=\"col_heading level0 col2\" >Total Purchase Value</th>    </tr>    <tr>        <th class=\"index_name level0\" >Item ID</th>        <th class=\"index_name level1\" >Item Name</th>        <th class=\"blank\" ></th>        <th class=\"blank\" ></th>        <th class=\"blank\" ></th>    </tr></thead><tbody>\n",
       "                <tr>\n",
       "                        <th id=\"T_7eb0e740_d2a0_11e9_bbec_ccb0da51e292level0_row0\" class=\"row_heading level0 row0\" >178</th>\n",
       "                        <th id=\"T_7eb0e740_d2a0_11e9_bbec_ccb0da51e292level1_row0\" class=\"row_heading level1 row0\" >Oathbreaker, Last Hope of the Breaking Storm</th>\n",
       "                        <td id=\"T_7eb0e740_d2a0_11e9_bbec_ccb0da51e292row0_col0\" class=\"data row0 col0\" >12</td>\n",
       "                        <td id=\"T_7eb0e740_d2a0_11e9_bbec_ccb0da51e292row0_col1\" class=\"data row0 col1\" >$4.23</td>\n",
       "                        <td id=\"T_7eb0e740_d2a0_11e9_bbec_ccb0da51e292row0_col2\" class=\"data row0 col2\" >$50.76</td>\n",
       "            </tr>\n",
       "            <tr>\n",
       "                        <th id=\"T_7eb0e740_d2a0_11e9_bbec_ccb0da51e292level0_row1\" class=\"row_heading level0 row1\" >145</th>\n",
       "                        <th id=\"T_7eb0e740_d2a0_11e9_bbec_ccb0da51e292level1_row1\" class=\"row_heading level1 row1\" >Fiery Glass Crusader</th>\n",
       "                        <td id=\"T_7eb0e740_d2a0_11e9_bbec_ccb0da51e292row1_col0\" class=\"data row1 col0\" >9</td>\n",
       "                        <td id=\"T_7eb0e740_d2a0_11e9_bbec_ccb0da51e292row1_col1\" class=\"data row1 col1\" >$4.58</td>\n",
       "                        <td id=\"T_7eb0e740_d2a0_11e9_bbec_ccb0da51e292row1_col2\" class=\"data row1 col2\" >$41.22</td>\n",
       "            </tr>\n",
       "            <tr>\n",
       "                        <th id=\"T_7eb0e740_d2a0_11e9_bbec_ccb0da51e292level0_row2\" class=\"row_heading level0 row2\" >108</th>\n",
       "                        <th id=\"T_7eb0e740_d2a0_11e9_bbec_ccb0da51e292level1_row2\" class=\"row_heading level1 row2\" >Extraction, Quickblade Of Trembling Hands</th>\n",
       "                        <td id=\"T_7eb0e740_d2a0_11e9_bbec_ccb0da51e292row2_col0\" class=\"data row2 col0\" >9</td>\n",
       "                        <td id=\"T_7eb0e740_d2a0_11e9_bbec_ccb0da51e292row2_col1\" class=\"data row2 col1\" >$3.53</td>\n",
       "                        <td id=\"T_7eb0e740_d2a0_11e9_bbec_ccb0da51e292row2_col2\" class=\"data row2 col2\" >$31.77</td>\n",
       "            </tr>\n",
       "            <tr>\n",
       "                        <th id=\"T_7eb0e740_d2a0_11e9_bbec_ccb0da51e292level0_row3\" class=\"row_heading level0 row3\" >82</th>\n",
       "                        <th id=\"T_7eb0e740_d2a0_11e9_bbec_ccb0da51e292level1_row3\" class=\"row_heading level1 row3\" >Nirvana</th>\n",
       "                        <td id=\"T_7eb0e740_d2a0_11e9_bbec_ccb0da51e292row3_col0\" class=\"data row3 col0\" >9</td>\n",
       "                        <td id=\"T_7eb0e740_d2a0_11e9_bbec_ccb0da51e292row3_col1\" class=\"data row3 col1\" >$4.90</td>\n",
       "                        <td id=\"T_7eb0e740_d2a0_11e9_bbec_ccb0da51e292row3_col2\" class=\"data row3 col2\" >$44.10</td>\n",
       "            </tr>\n",
       "            <tr>\n",
       "                        <th id=\"T_7eb0e740_d2a0_11e9_bbec_ccb0da51e292level0_row4\" class=\"row_heading level0 row4\" >19</th>\n",
       "                        <th id=\"T_7eb0e740_d2a0_11e9_bbec_ccb0da51e292level1_row4\" class=\"row_heading level1 row4\" >Pursuit, Cudgel of Necromancy</th>\n",
       "                        <td id=\"T_7eb0e740_d2a0_11e9_bbec_ccb0da51e292row4_col0\" class=\"data row4 col0\" >8</td>\n",
       "                        <td id=\"T_7eb0e740_d2a0_11e9_bbec_ccb0da51e292row4_col1\" class=\"data row4 col1\" >$1.02</td>\n",
       "                        <td id=\"T_7eb0e740_d2a0_11e9_bbec_ccb0da51e292row4_col2\" class=\"data row4 col2\" >$8.16</td>\n",
       "            </tr>\n",
       "    </tbody></table>"
      ],
      "text/plain": [
       "<pandas.io.formats.style.Styler at 0x279827529b0>"
      ]
     },
     "execution_count": 162,
     "metadata": {},
     "output_type": "execute_result"
    }
   ],
   "source": [
    "#Group by Item ID and Item Name\n",
    "Item_Group = purchase_data.groupby([\"Item ID\",\"Item Name\"])\n",
    "\n",
    "#Calculating Purchase Count, Item Price , Total Purchase Value based on Most Popular Items\n",
    "Items_Purchase_Count = Item_Group[\"Purchase ID\"].nunique()\n",
    "Items_Price = Item_Group[\"Price\"].mean()\n",
    "Items_Total_PV = Item_Group[\"Price\"].sum()\n",
    "\n",
    "#Summary Data Frame to hold the results\n",
    "Most_Popular_Item_df = pd.DataFrame({\"Purchase Count\": Items_Purchase_Count, \n",
    "                                           \"Item Price\": Items_Price,\n",
    "                                           \"Total Purchase Value\": Items_Total_PV})\n",
    "\n",
    "#Sorting the Data Frame by Purchase Count in Descending Order\n",
    "Most_Popular_Item_df = Most_Popular_Item_df.sort_values(\"Purchase Count\", ascending=False) \n",
    "\n",
    "#Displaying Priview of Data (head)\n",
    "Most_Popular_Item_df = Most_Popular_Item_df.head()\n",
    "\n",
    "#Formatting the Data Frame\n",
    "Most_Popular_Item_df = Most_Popular_Item_df.style.format({\"Item Price\": \"${:.2f}\", \"Total Purchase Value\": \"${:,.2f}\"})\n",
    "\n",
    "#Displaying the Data Frame\n",
    "Most_Popular_Item_df"
   ]
  },
  {
   "cell_type": "markdown",
   "metadata": {},
   "source": [
    "## Most Profitable Items"
   ]
  },
  {
   "cell_type": "markdown",
   "metadata": {},
   "source": [
    "* Sort the above table by total purchase value in descending order\n",
    "\n",
    "\n",
    "* Optional: give the displayed data cleaner formatting\n",
    "\n",
    "\n",
    "* Display a preview of the data frame\n",
    "\n"
   ]
  },
  {
   "cell_type": "code",
   "execution_count": 163,
   "metadata": {
    "scrolled": true
   },
   "outputs": [
    {
     "data": {
      "text/html": [
       "<style  type=\"text/css\" >\n",
       "</style><table id=\"T_801f3f9c_d2a0_11e9_a37b_ccb0da51e292\" ><thead>    <tr>        <th class=\"blank\" ></th>        <th class=\"blank level0\" ></th>        <th class=\"col_heading level0 col0\" >Purchase Count</th>        <th class=\"col_heading level0 col1\" >Item Price</th>        <th class=\"col_heading level0 col2\" >Total Purchase Value</th>    </tr>    <tr>        <th class=\"index_name level0\" >Item ID</th>        <th class=\"index_name level1\" >Item Name</th>        <th class=\"blank\" ></th>        <th class=\"blank\" ></th>        <th class=\"blank\" ></th>    </tr></thead><tbody>\n",
       "                <tr>\n",
       "                        <th id=\"T_801f3f9c_d2a0_11e9_a37b_ccb0da51e292level0_row0\" class=\"row_heading level0 row0\" >178</th>\n",
       "                        <th id=\"T_801f3f9c_d2a0_11e9_a37b_ccb0da51e292level1_row0\" class=\"row_heading level1 row0\" >Oathbreaker, Last Hope of the Breaking Storm</th>\n",
       "                        <td id=\"T_801f3f9c_d2a0_11e9_a37b_ccb0da51e292row0_col0\" class=\"data row0 col0\" >12</td>\n",
       "                        <td id=\"T_801f3f9c_d2a0_11e9_a37b_ccb0da51e292row0_col1\" class=\"data row0 col1\" >$4.23</td>\n",
       "                        <td id=\"T_801f3f9c_d2a0_11e9_a37b_ccb0da51e292row0_col2\" class=\"data row0 col2\" >$50.76</td>\n",
       "            </tr>\n",
       "            <tr>\n",
       "                        <th id=\"T_801f3f9c_d2a0_11e9_a37b_ccb0da51e292level0_row1\" class=\"row_heading level0 row1\" >82</th>\n",
       "                        <th id=\"T_801f3f9c_d2a0_11e9_a37b_ccb0da51e292level1_row1\" class=\"row_heading level1 row1\" >Nirvana</th>\n",
       "                        <td id=\"T_801f3f9c_d2a0_11e9_a37b_ccb0da51e292row1_col0\" class=\"data row1 col0\" >9</td>\n",
       "                        <td id=\"T_801f3f9c_d2a0_11e9_a37b_ccb0da51e292row1_col1\" class=\"data row1 col1\" >$4.90</td>\n",
       "                        <td id=\"T_801f3f9c_d2a0_11e9_a37b_ccb0da51e292row1_col2\" class=\"data row1 col2\" >$44.10</td>\n",
       "            </tr>\n",
       "            <tr>\n",
       "                        <th id=\"T_801f3f9c_d2a0_11e9_a37b_ccb0da51e292level0_row2\" class=\"row_heading level0 row2\" >145</th>\n",
       "                        <th id=\"T_801f3f9c_d2a0_11e9_a37b_ccb0da51e292level1_row2\" class=\"row_heading level1 row2\" >Fiery Glass Crusader</th>\n",
       "                        <td id=\"T_801f3f9c_d2a0_11e9_a37b_ccb0da51e292row2_col0\" class=\"data row2 col0\" >9</td>\n",
       "                        <td id=\"T_801f3f9c_d2a0_11e9_a37b_ccb0da51e292row2_col1\" class=\"data row2 col1\" >$4.58</td>\n",
       "                        <td id=\"T_801f3f9c_d2a0_11e9_a37b_ccb0da51e292row2_col2\" class=\"data row2 col2\" >$41.22</td>\n",
       "            </tr>\n",
       "            <tr>\n",
       "                        <th id=\"T_801f3f9c_d2a0_11e9_a37b_ccb0da51e292level0_row3\" class=\"row_heading level0 row3\" >92</th>\n",
       "                        <th id=\"T_801f3f9c_d2a0_11e9_a37b_ccb0da51e292level1_row3\" class=\"row_heading level1 row3\" >Final Critic</th>\n",
       "                        <td id=\"T_801f3f9c_d2a0_11e9_a37b_ccb0da51e292row3_col0\" class=\"data row3 col0\" >8</td>\n",
       "                        <td id=\"T_801f3f9c_d2a0_11e9_a37b_ccb0da51e292row3_col1\" class=\"data row3 col1\" >$4.88</td>\n",
       "                        <td id=\"T_801f3f9c_d2a0_11e9_a37b_ccb0da51e292row3_col2\" class=\"data row3 col2\" >$39.04</td>\n",
       "            </tr>\n",
       "            <tr>\n",
       "                        <th id=\"T_801f3f9c_d2a0_11e9_a37b_ccb0da51e292level0_row4\" class=\"row_heading level0 row4\" >103</th>\n",
       "                        <th id=\"T_801f3f9c_d2a0_11e9_a37b_ccb0da51e292level1_row4\" class=\"row_heading level1 row4\" >Singed Scalpel</th>\n",
       "                        <td id=\"T_801f3f9c_d2a0_11e9_a37b_ccb0da51e292row4_col0\" class=\"data row4 col0\" >8</td>\n",
       "                        <td id=\"T_801f3f9c_d2a0_11e9_a37b_ccb0da51e292row4_col1\" class=\"data row4 col1\" >$4.35</td>\n",
       "                        <td id=\"T_801f3f9c_d2a0_11e9_a37b_ccb0da51e292row4_col2\" class=\"data row4 col2\" >$34.80</td>\n",
       "            </tr>\n",
       "    </tbody></table>"
      ],
      "text/plain": [
       "<pandas.io.formats.style.Styler at 0x27981f9e898>"
      ]
     },
     "execution_count": 163,
     "metadata": {},
     "output_type": "execute_result"
    }
   ],
   "source": [
    "#Group by Item ID and Item Name\n",
    "Item_Group = purchase_data.groupby([\"Item ID\",\"Item Name\"])\n",
    "\n",
    "#Calculating Purchase Count, Item Price , Total Purchase Value based on Most Profitable Items\n",
    "Items_Purchase_Count = Item_Group[\"Purchase ID\"].nunique()\n",
    "Items_Price = Item_Group[\"Price\"].mean()\n",
    "Items_Total_PV = Item_Group[\"Price\"].sum()\n",
    "\n",
    "#Summary Data Frame to hold the results\n",
    "Most_Profitable_Item_df = pd.DataFrame({\"Purchase Count\": Items_Purchase_Count, \n",
    "                                           \"Item Price\": Items_Price,\n",
    "                                           \"Total Purchase Value\": Items_Total_PV})\n",
    "\n",
    "#Sorting the Data Frame by Total Purchase Value in Descending Order\n",
    "Most_Profitable_Item_df = Most_Profitable_Item_df.sort_values(\"Total Purchase Value\", ascending=False) \n",
    "\n",
    "#Displaying Priview of Data (head)\n",
    "Most_Profitable_Item_df = Most_Profitable_Item_df.head()\n",
    "\n",
    "#Formatting the Data Frame\n",
    "Most_Profitable_Item_df = Most_Profitable_Item_df.style.format({\"Item Price\": \"${:.2f}\", \"Total Purchase Value\": \"${:,.2f}\"})\n",
    "\n",
    "#Displaying the Data Frame\n",
    "Most_Profitable_Item_df"
   ]
  },
  {
   "cell_type": "code",
   "execution_count": null,
   "metadata": {},
   "outputs": [],
   "source": []
  },
  {
   "cell_type": "code",
   "execution_count": null,
   "metadata": {},
   "outputs": [],
   "source": []
  }
 ],
 "metadata": {
  "anaconda-cloud": {},
  "kernel_info": {
   "name": "python3"
  },
  "kernelspec": {
   "display_name": "Python 3",
   "language": "python",
   "name": "python3"
  },
  "language_info": {
   "codemirror_mode": {
    "name": "ipython",
    "version": 3
   },
   "file_extension": ".py",
   "mimetype": "text/x-python",
   "name": "python",
   "nbconvert_exporter": "python",
   "pygments_lexer": "ipython3",
   "version": "3.7.3"
  },
  "latex_envs": {
   "LaTeX_envs_menu_present": true,
   "autoclose": false,
   "autocomplete": true,
   "bibliofile": "biblio.bib",
   "cite_by": "apalike",
   "current_citInitial": 1,
   "eqLabelWithNumbers": true,
   "eqNumInitial": 1,
   "hotkeys": {
    "equation": "Ctrl-E",
    "itemize": "Ctrl-I"
   },
   "labels_anchors": false,
   "latex_user_defs": false,
   "report_style_numbering": false,
   "user_envs_cfg": false
  },
  "nteract": {
   "version": "0.2.0"
  }
 },
 "nbformat": 4,
 "nbformat_minor": 2
}
